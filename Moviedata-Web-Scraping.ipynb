{
 "cells": [
  {
   "cell_type": "code",
   "execution_count": 7,
   "id": "da900da9",
   "metadata": {},
   "outputs": [],
   "source": [
    "from bs4 import BeautifulSoup\n",
    "import requests"
   ]
  },
  {
   "cell_type": "code",
   "execution_count": 8,
   "id": "abf3e254",
   "metadata": {},
   "outputs": [],
   "source": [
    "def get_url_data(url):\n",
    "    \n",
    "    res = requests.get(url).text\n",
    "    return res"
   ]
  },
  {
   "cell_type": "code",
   "execution_count": 9,
   "id": "fabb3b56",
   "metadata": {},
   "outputs": [],
   "source": [
    "def get_page_list(url):\n",
    "    \n",
    "    lst = []\n",
    "    \n",
    "    for i in range(1,51):\n",
    "        lst.append(f'{url}{i}')\n",
    "        \n",
    "    return lst"
   ]
  },
  {
   "cell_type": "code",
   "execution_count": 10,
   "id": "3e0cd245",
   "metadata": {},
   "outputs": [],
   "source": [
    "def get_soup(url):\n",
    "    \n",
    "    res = BeautifulSoup(url,'html')\n",
    "    \n",
    "    return res"
   ]
  },
  {
   "cell_type": "code",
   "execution_count": 11,
   "id": "862ea510",
   "metadata": {},
   "outputs": [],
   "source": [
    "page_url = 'https://www.themoviedb.org/movie?page='\n",
    "movie_url = 'https://www.themoviedb.org'"
   ]
  },
  {
   "cell_type": "code",
   "execution_count": 12,
   "id": "79074dd5",
   "metadata": {},
   "outputs": [],
   "source": [
    "page_url_lst = get_page_list(page_url)"
   ]
  },
  {
   "cell_type": "raw",
   "id": "86bcd22b",
   "metadata": {},
   "source": [
    "\n",
    "# for item in page_url_lst:\n",
    "#     print(item)"
   ]
  },
  {
   "cell_type": "code",
   "execution_count": null,
   "id": "5f2dc04f",
   "metadata": {},
   "outputs": [],
   "source": []
  },
  {
   "cell_type": "code",
   "execution_count": 8,
   "id": "316b3f7d",
   "metadata": {},
   "outputs": [],
   "source": [
    "movie_url_lst = []\n",
    "for url in page_url_lst:\n",
    "    \n",
    "    page = get_url_data(url)\n",
    "\n",
    "    page_soup = get_soup(page)\n",
    "\n",
    "    per_movie_url = page_soup.find_all('a', class_='image')\n",
    "\n",
    "    for item in per_movie_url:\n",
    "\n",
    "        movie_url_lst.append(f'{movie_url}{item[\"href\"]}')\n",
    "\n",
    "# print(movie_url)\n",
    "\n",
    "# movie_url_lst.append(f'{movie_url}movie_url')\n",
    "    \n",
    "    \n"
   ]
  },
  {
   "cell_type": "raw",
   "id": "3b07ef54",
   "metadata": {
    "scrolled": false
   },
   "source": [
    "for item in movie_url_lst:\n",
    "    print(item)"
   ]
  },
  {
   "cell_type": "code",
   "execution_count": 10,
   "id": "e485b669",
   "metadata": {},
   "outputs": [
    {
     "data": {
      "text/plain": [
       "1000"
      ]
     },
     "execution_count": 10,
     "metadata": {},
     "output_type": "execute_result"
    }
   ],
   "source": [
    "len(movie_url_lst)"
   ]
  },
  {
   "cell_type": "raw",
   "id": "9fb1bc02",
   "metadata": {},
   "source": [
    "f'{page_url}1'"
   ]
  },
  {
   "cell_type": "raw",
   "id": "71e4be8b",
   "metadata": {},
   "source": [
    "re = get_url_data(f'{page_url}1')"
   ]
  },
  {
   "cell_type": "code",
   "execution_count": null,
   "id": "fb1cd22e",
   "metadata": {},
   "outputs": [],
   "source": []
  },
  {
   "cell_type": "code",
   "execution_count": 36,
   "id": "c26777f8",
   "metadata": {
    "scrolled": false
   },
   "outputs": [
    {
     "name": "stdout",
     "output_type": "stream",
     "text": [
      "Avatar: Scene Deconstruction (2009)\n"
     ]
    }
   ],
   "source": [
    "movie_page_data = get_url_data('https://www.themoviedb.org/movie/287003-avatar-scene-deconstruction')\n",
    "\n",
    "# print(requests.get('https://www.themoviedb.org/movie/287003-avatar-scene-deconstruction').url)\n",
    "\n",
    "\n",
    "movie_soup = get_soup(movie_page_data)\n",
    "\n",
    "# print(movie_soup)\n",
    "\n",
    "# movie_section = movie_soup.find()\n",
    "movie_title = movie_soup.find('h2')\n",
    "\n",
    "movie_title = f'{movie_title.find(\"a\").text} {movie_title.find(\"span\").text}'\n",
    "\n",
    "print(movie_title)\n",
    "\n"
   ]
  },
  {
   "cell_type": "markdown",
   "id": "8a90f664",
   "metadata": {},
   "source": [
    "# Function Method"
   ]
  },
  {
   "cell_type": "code",
   "execution_count": 42,
   "id": "052f6686",
   "metadata": {},
   "outputs": [],
   "source": [
    "def movie_name(soup):\n",
    "    \n",
    "    movie_title = ''\n",
    "\n",
    "    try:\n",
    "    \n",
    "        movie_title = soup.find('h2')\n",
    "\n",
    "        movie_title = f'{movie_title.find(\"a\").text} {movie_title.find(\"span\").text}'\n",
    "    \n",
    "    except Exception as e:\n",
    "        print(\"Error retrieving Movie name\")\n",
    "#         movie_title = \"NA\"\n",
    "\n",
    "    return 'NA' if movie_title == '' else movie_title"
   ]
  },
  {
   "cell_type": "code",
   "execution_count": 43,
   "id": "ab8b5c94",
   "metadata": {
    "scrolled": false
   },
   "outputs": [
    {
     "name": "stdout",
     "output_type": "stream",
     "text": [
      "Avatar: Scene Deconstruction (2009)\n"
     ]
    }
   ],
   "source": [
    "movie_page_data = get_url_data('https://www.themoviedb.org/movie/287003-avatar-scene-deconstruction')\n",
    "\n",
    "\n",
    "movie_soup = get_soup(movie_page_data)\n",
    "\n",
    "movie_title = movie_name(movie_soup)\n",
    "\n",
    "print(movie_title)\n",
    "\n"
   ]
  },
  {
   "cell_type": "code",
   "execution_count": null,
   "id": "143c0c47",
   "metadata": {},
   "outputs": [],
   "source": []
  },
  {
   "cell_type": "code",
   "execution_count": 31,
   "id": "980d6355",
   "metadata": {},
   "outputs": [
    {
     "name": "stdout",
     "output_type": "stream",
     "text": [
      "78.0\n"
     ]
    }
   ],
   "source": [
    "ratings = movie_soup.find('div',class_='user_score_chart')['data-percent']\n",
    "\n",
    "print(ratings)"
   ]
  },
  {
   "cell_type": "markdown",
   "id": "858a2316",
   "metadata": {},
   "source": [
    "# Function Method"
   ]
  },
  {
   "cell_type": "code",
   "execution_count": 34,
   "id": "c3aacca5",
   "metadata": {},
   "outputs": [],
   "source": [
    "def movie_ratings(soup):\n",
    "    \n",
    "    rating = ''\n",
    "    \n",
    "    try:\n",
    "\n",
    "        rating = soup.find('div',class_='user_score_chart')['data-percent']\n",
    "\n",
    "    except Exception as e:\n",
    "        print(\"Movie name not found\")\n",
    "#         rating = \"NA\"\n",
    "\n",
    "    return 'NA' if rating == '' else rating\n"
   ]
  },
  {
   "cell_type": "code",
   "execution_count": 35,
   "id": "6f2a46ca",
   "metadata": {},
   "outputs": [
    {
     "name": "stdout",
     "output_type": "stream",
     "text": [
      "78.0\n"
     ]
    }
   ],
   "source": [
    "ratings = movie_ratings(movie_soup)\n",
    "\n",
    "print(ratings)"
   ]
  },
  {
   "cell_type": "code",
   "execution_count": null,
   "id": "44f04c0e",
   "metadata": {},
   "outputs": [],
   "source": []
  },
  {
   "cell_type": "code",
   "execution_count": null,
   "id": "5c581f3b",
   "metadata": {},
   "outputs": [],
   "source": []
  },
  {
   "cell_type": "code",
   "execution_count": 96,
   "id": "643c6aa4",
   "metadata": {},
   "outputs": [
    {
     "name": "stdout",
     "output_type": "stream",
     "text": [
      "\n",
      "Science Fiction, Adventure, Action\n",
      "\n"
     ]
    }
   ],
   "source": [
    "movie_genre = movie_soup.find('span',class_='genres').text\n",
    "\n",
    "print(movie_genre)"
   ]
  },
  {
   "cell_type": "markdown",
   "id": "16e5bd22",
   "metadata": {},
   "source": [
    "# Function Method"
   ]
  },
  {
   "cell_type": "code",
   "execution_count": 77,
   "id": "3a4ef632",
   "metadata": {},
   "outputs": [],
   "source": [
    "def movie_genres(soup):\n",
    "    \n",
    "    try:\n",
    "        \n",
    "        genres = soup.find('span',class_='genres').text\n",
    "        \n",
    "    except Exception as e:\n",
    "        print(\"Genre not found\")\n",
    "#         genres = \"NA\"\n",
    "        \n",
    "    return 'NA' if genres == '' else genres"
   ]
  },
  {
   "cell_type": "code",
   "execution_count": 98,
   "id": "890375e2",
   "metadata": {},
   "outputs": [],
   "source": [
    "def movie_release_date(soup):\n",
    "\n",
    "    release = ''    \n",
    "    try:\n",
    "        \n",
    "        release = soup.find('span',class_='release').text\n",
    "        \n",
    "    except Exception as e:\n",
    "        print(\"Error retrieving release date data\")\n",
    "#         release = \"NA\"\n",
    "        \n",
    "    return 'NA' if release == '' else release"
   ]
  },
  {
   "cell_type": "code",
   "execution_count": 122,
   "id": "8fa01a30",
   "metadata": {},
   "outputs": [],
   "source": [
    "import threading\n",
    "from queue import Queue"
   ]
  },
  {
   "cell_type": "code",
   "execution_count": 114,
   "id": "bab17fc5",
   "metadata": {},
   "outputs": [],
   "source": [
    "def func(n):\n",
    "    \n",
    "    if n%2==0:\n",
    "        return True\n",
    "    else:\n",
    "        return False\n",
    "    \n"
   ]
  },
  {
   "cell_type": "code",
   "execution_count": null,
   "id": "78b821f6",
   "metadata": {},
   "outputs": [],
   "source": []
  },
  {
   "cell_type": "code",
   "execution_count": 108,
   "id": "7f101d5b",
   "metadata": {},
   "outputs": [],
   "source": [
    "import re\n",
    "\n",
    "from datetime import datetime"
   ]
  },
  {
   "cell_type": "code",
   "execution_count": 111,
   "id": "88a0935b",
   "metadata": {},
   "outputs": [
    {
     "data": {
      "text/plain": [
       "'\\n        12/16/2022 (IN)\\n      '"
      ]
     },
     "execution_count": 111,
     "metadata": {},
     "output_type": "execute_result"
    }
   ],
   "source": [
    "movie_release = movie_release_date(movie_soup)\n",
    "\n",
    "movie_release\n",
    "\n",
    "pattern = '\\d{2}/\\d{2}/\\d{4}'\n",
    "\n",
    "# pat = re.findall(pattern, movie_release)[0]\n",
    "\n",
    "# movie_release = datetime.strptime(pat,'%d/%m/%Y')\n",
    "# print(movie_release)\n",
    "# # movie_release = date"
   ]
  },
  {
   "cell_type": "code",
   "execution_count": 87,
   "id": "ee672325",
   "metadata": {},
   "outputs": [
    {
     "name": "stdout",
     "output_type": "stream",
     "text": [
      "Science Fiction,\n",
      "Adventure,\n",
      "Action,\n",
      "\n"
     ]
    }
   ],
   "source": [
    "movie_genre = movie_genres(movie_soup)\n",
    "\n",
    "movie_genre      # Needs some data cleaning\n",
    "\n",
    "movie_genre = movie_genre.split(',')\n",
    "\n",
    "movie_genre = list(map(lambda a: a.strip()+',\\n', movie_genre))\n",
    "\n",
    "movie_genre = ''.join(movie_genre)\n",
    "\n",
    "print(movie_genre)"
   ]
  },
  {
   "cell_type": "code",
   "execution_count": 69,
   "id": "b17c2496",
   "metadata": {},
   "outputs": [
    {
     "data": {
      "text/plain": [
       "'Amit'"
      ]
     },
     "execution_count": 69,
     "metadata": {},
     "output_type": "execute_result"
    }
   ],
   "source": [
    "from dataclasses import dataclass\n",
    "\n",
    "@dataclass\n",
    "class Person:\n",
    "    \n",
    "    name: str\n",
    "        \n",
    "#     return name\n",
    "\n",
    "p = Person('Amit')\n",
    "\n",
    "p.name\n"
   ]
  },
  {
   "cell_type": "code",
   "execution_count": null,
   "id": "635b4b0e",
   "metadata": {},
   "outputs": [],
   "source": []
  },
  {
   "cell_type": "code",
   "execution_count": 1,
   "id": "2205cfa9",
   "metadata": {},
   "outputs": [],
   "source": [
    "l = [\n",
    "    {\n",
    "        'name': 'Amit',\n",
    "        'age' : 23,\n",
    "        'list': '1\\n2\\n3'\n",
    "    },\n",
    "    {\n",
    "        'name': 'Arnav',\n",
    "        'age': 23\n",
    "    }\n",
    "]"
   ]
  },
  {
   "cell_type": "code",
   "execution_count": 5,
   "id": "d617e402",
   "metadata": {},
   "outputs": [
    {
     "data": {
      "text/plain": [
       "NoneType"
      ]
     },
     "execution_count": 5,
     "metadata": {},
     "output_type": "execute_result"
    }
   ],
   "source": [
    "import pandas as pd\n",
    "\n",
    "df = pd.DataFrame(l)\n",
    "\n",
    "type(df.to_csv('export.csv'))"
   ]
  },
  {
   "cell_type": "code",
   "execution_count": null,
   "id": "2fb81a1e",
   "metadata": {},
   "outputs": [],
   "source": []
  },
  {
   "cell_type": "code",
   "execution_count": 96,
   "id": "d41b7e80",
   "metadata": {},
   "outputs": [
    {
     "data": {
      "text/plain": [
       "'\\n        3h 12m\\n    '"
      ]
     },
     "execution_count": 96,
     "metadata": {},
     "output_type": "execute_result"
    }
   ],
   "source": [
    "movie_runtime = movie_soup.find('span', class_='runtime').text\n",
    "\n",
    "movie_runtime           # Needs some data cleaning"
   ]
  },
  {
   "cell_type": "markdown",
   "id": "2aa80a3f",
   "metadata": {},
   "source": [
    "# Function Method"
   ]
  },
  {
   "cell_type": "code",
   "execution_count": 133,
   "id": "00e10228",
   "metadata": {},
   "outputs": [],
   "source": [
    "def movie_runtime(soup):\n",
    "    \n",
    "    try:\n",
    "        runtime = soup.find('span', class_='runtime').text\n",
    "        \n",
    "    except Execption as e:\n",
    "        print(\"Runtime not found\")\n",
    "#         runtime = \"NA\"\n",
    "        \n",
    "    return 'NA' if runtime == '' else runtime"
   ]
  },
  {
   "cell_type": "code",
   "execution_count": 134,
   "id": "95df8682",
   "metadata": {},
   "outputs": [
    {
     "name": "stdout",
     "output_type": "stream",
     "text": [
      "\n",
      "        3h 12m\n",
      "    \n"
     ]
    }
   ],
   "source": [
    "runtime = movie_runtime(movie_soup)\n",
    "\n",
    "print(runtime)           # Needs some data cleaning"
   ]
  },
  {
   "cell_type": "code",
   "execution_count": 97,
   "id": "b3781c35",
   "metadata": {},
   "outputs": [
    {
     "data": {
      "text/plain": [
       "'James Cameron'"
      ]
     },
     "execution_count": 97,
     "metadata": {},
     "output_type": "execute_result"
    }
   ],
   "source": [
    "movie_cast = movie_soup.find_all('li',class_='profile')\n",
    "director = ''\n",
    "for profile in movie_cast:\n",
    "    \n",
    "    work = profile.find('p',class_='character').text\n",
    "    name = profile.find('a').text\n",
    "    if work.count('Director')>0:\n",
    "        director = name\n",
    "        break\n",
    "        \n",
    "director"
   ]
  },
  {
   "cell_type": "markdown",
   "id": "8d9a26b0",
   "metadata": {},
   "source": [
    "# Function Method"
   ]
  },
  {
   "cell_type": "code",
   "execution_count": null,
   "id": "68098be5",
   "metadata": {},
   "outputs": [],
   "source": []
  },
  {
   "cell_type": "code",
   "execution_count": 48,
   "id": "2b355084",
   "metadata": {},
   "outputs": [],
   "source": [
    "def movie_director(soup):\n",
    "    \n",
    "    director = ''\n",
    "    \n",
    "    try:\n",
    "        movie_cast = soup.find_all('li',class_='profile')\n",
    "        for profile in movie_cast:\n",
    "\n",
    "            work = profile.find('p',class_='character').text\n",
    "            name = profile.find('a').text\n",
    "            if work.count('Director')>0:\n",
    "                director = name\n",
    "                break\n",
    "        \n",
    "    except Exception as e:\n",
    "        print(\"Director not found\")\n",
    "        \n",
    "#     else:\n",
    "#         director = 'NA'\n",
    "        \n",
    "    return 'NA' if director == '' else director"
   ]
  },
  {
   "cell_type": "code",
   "execution_count": 49,
   "id": "eeb5b146",
   "metadata": {
    "scrolled": true
   },
   "outputs": [
    {
     "name": "stdout",
     "output_type": "stream",
     "text": [
      "James Cameron\n"
     ]
    }
   ],
   "source": [
    "director = movie_director(movie_soup)\n",
    "        \n",
    "print(director)"
   ]
  },
  {
   "cell_type": "code",
   "execution_count": null,
   "id": "45994c09",
   "metadata": {},
   "outputs": [],
   "source": []
  },
  {
   "cell_type": "code",
   "execution_count": null,
   "id": "fa46f97d",
   "metadata": {},
   "outputs": [],
   "source": []
  },
  {
   "cell_type": "code",
   "execution_count": 30,
   "id": "fff07bf3",
   "metadata": {},
   "outputs": [],
   "source": [
    "movie_page_data = get_url_data('https://www.themoviedb.org/movie/721187-4')\n",
    "\n",
    "\n",
    "movie_soup = get_soup(movie_page_data)"
   ]
  },
  {
   "cell_type": "code",
   "execution_count": 139,
   "id": "16ea06cf",
   "metadata": {},
   "outputs": [],
   "source": [
    "for i in range(0,len(movie_url_lst)):\n",
    "    \n",
    "    if movie_url_lst[i].endswith('417859'):\n",
    "        print(i)\n",
    "        break"
   ]
  },
  {
   "cell_type": "code",
   "execution_count": null,
   "id": "66cba815",
   "metadata": {},
   "outputs": [],
   "source": []
  },
  {
   "cell_type": "code",
   "execution_count": null,
   "id": "ac005ea6",
   "metadata": {},
   "outputs": [],
   "source": [
    "movie_info = {\n",
    "    'Name': movie_title,\n",
    "    'Rating': movie_rating\n",
    "}"
   ]
  }
 ],
 "metadata": {
  "kernelspec": {
   "display_name": "archive",
   "language": "python",
   "name": "archive"
  },
  "language_info": {
   "codemirror_mode": {
    "name": "ipython",
    "version": 3
   },
   "file_extension": ".py",
   "mimetype": "text/x-python",
   "name": "python",
   "nbconvert_exporter": "python",
   "pygments_lexer": "ipython3",
   "version": "3.11.1"
  }
 },
 "nbformat": 4,
 "nbformat_minor": 5
}
